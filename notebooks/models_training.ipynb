{
 "cells": [
  {
   "cell_type": "code",
   "execution_count": 1,
   "id": "5656c70a-b72c-4956-a6b7-736268befb78",
   "metadata": {},
   "outputs": [],
   "source": [
    "from models.model_factory import get_model, save_weights\n",
    "from preprocessing.data import get_loaders, train_test_split, calculate_mean_std, create_datasets\n",
    "from preprocessing.imbalanced_dataset import get_weighted_loss, get_loaders_with_oversampling\n",
    "from training.training import train_model\n",
    "from results.evaluation import evaluate_model\n",
    "from results.visualizations import plot_confusion_matrix, plot_roc_curves, plot_precision_recall_curve\n",
    "from utils.seed import set_seed\n",
    "import torch"
   ]
  },
  {
   "cell_type": "code",
   "execution_count": 2,
   "id": "a70035dd-b7c3-403c-9f97-e24534479267",
   "metadata": {},
   "outputs": [],
   "source": [
    "data_path = 'data'\n",
    "batch_size = 32\n",
    "device = torch.device('cuda' if torch.cuda.is_available() else 'cpu')"
   ]
  },
  {
   "cell_type": "code",
   "execution_count": 3,
   "id": "17fb3821-048a-46e5-8c82-a9c61b0c3506",
   "metadata": {},
   "outputs": [
    {
     "name": "stdout",
     "output_type": "stream",
     "text": [
      "Mean: tensor([0.0985]), Std: tensor([0.1802])\n"
     ]
    }
   ],
   "source": [
    "set_seed(42)\n",
    "\n",
    "mean, std = calculate_mean_std(data_path, batch_size)\n",
    "print(f\"Mean: {mean}, Std: {std}\")"
   ]
  },
  {
   "cell_type": "code",
   "execution_count": 4,
   "id": "85dd422e-93d5-478c-855d-be79dbbca484",
   "metadata": {},
   "outputs": [],
   "source": [
    "train_loader, test_loader = get_loaders(data_path, mean, std, batch_size)"
   ]
  },
  {
   "cell_type": "markdown",
   "id": "f6a0d2d9-4e1d-4439-b626-ada674891ed9",
   "metadata": {},
   "source": [
    "# CNN baseline"
   ]
  },
  {
   "cell_type": "code",
   "execution_count": 8,
   "id": "2c3a9705-a58e-41d9-bc11-7ca13c648439",
   "metadata": {},
   "outputs": [],
   "source": [
    "set_seed(42)\n",
    "\n",
    "model = get_model('cnn_baseline', in_channels = 1, num_classes = 4)\n",
    "criterion = torch.nn.CrossEntropyLoss()\n",
    "optimizer = torch.optim.Adam(model.parameters(), lr=0.001)\n",
    "scheduler = torch.optim.lr_scheduler.StepLR(optimizer, step_size=5, gamma=0.1)"
   ]
  },
  {
   "cell_type": "code",
   "execution_count": 9,
   "id": "958ea0ad-8f0b-43c3-ae9a-5dd7d64017d1",
   "metadata": {},
   "outputs": [
    {
     "name": "stdout",
     "output_type": "stream",
     "text": [
      "Epoch 1/10 - Time: 228.96s \n",
      "    Train Loss: 0.8279 | Train Acc: 0.6399\n",
      "    Test Loss: 0.7192 | Test Acc: 0.6834 | Test F1: 0.6928\n",
      "Epoch 2/10 - Time: 227.50s \n",
      "    Train Loss: 0.6639 | Train Acc: 0.7159\n",
      "    Test Loss: 0.7724 | Test Acc: 0.6751 | Test F1: 0.6709\n",
      "Epoch 3/10 - Time: 226.18s \n",
      "    Train Loss: 0.5919 | Train Acc: 0.7506\n",
      "    Test Loss: 0.6008 | Test Acc: 0.7540 | Test F1: 0.7606\n",
      "Epoch 4/10 - Time: 225.46s \n",
      "    Train Loss: 0.5482 | Train Acc: 0.7715\n",
      "    Test Loss: 0.5754 | Test Acc: 0.7658 | Test F1: 0.7663\n",
      "Epoch 5/10 - Time: 224.81s \n",
      "    Train Loss: 0.5217 | Train Acc: 0.7895\n",
      "    Test Loss: 0.5571 | Test Acc: 0.7728 | Test F1: 0.7788\n",
      "Epoch 6/10 - Time: 224.61s \n",
      "    Train Loss: 0.4713 | Train Acc: 0.8034\n",
      "    Test Loss: 0.5492 | Test Acc: 0.7736 | Test F1: 0.7804\n",
      "Epoch 7/10 - Time: 224.47s \n",
      "    Train Loss: 0.4485 | Train Acc: 0.8190\n",
      "    Test Loss: 0.5367 | Test Acc: 0.7802 | Test F1: 0.7872\n",
      "Epoch 8/10 - Time: 225.35s \n",
      "    Train Loss: 0.4328 | Train Acc: 0.8243\n",
      "    Test Loss: 0.5174 | Test Acc: 0.7896 | Test F1: 0.7932\n",
      "Epoch 9/10 - Time: 225.34s \n",
      "    Train Loss: 0.4381 | Train Acc: 0.8222\n",
      "    Test Loss: 0.5064 | Test Acc: 0.7943 | Test F1: 0.7993\n",
      "Epoch 10/10 - Time: 224.86s \n",
      "    Train Loss: 0.4193 | Train Acc: 0.8310\n",
      "    Test Loss: 0.5156 | Test Acc: 0.7965 | Test F1: 0.8006\n"
     ]
    }
   ],
   "source": [
    "trained_model = train_model(model, train_loader, test_loader, criterion, optimizer, scheduler, device, num_epochs = 10)"
   ]
  },
  {
   "cell_type": "code",
   "execution_count": 10,
   "id": "d7c1baac-b597-482e-8232-fa1d05e68cbe",
   "metadata": {},
   "outputs": [],
   "source": [
    "save_weights(trained_model, 'cnn_baseline.pth')"
   ]
  },
  {
   "cell_type": "markdown",
   "id": "3865a699-0761-46a1-9946-6ed9693ab4d1",
   "metadata": {},
   "source": [
    "# ResNet18 + weighted loss"
   ]
  },
  {
   "cell_type": "code",
   "execution_count": 5,
   "id": "2d323961-f00b-4135-a218-f3cb023c7c26",
   "metadata": {},
   "outputs": [],
   "source": [
    "model = get_model('resnet18', in_channels = 1, num_classes = 4)\n",
    "criterion = get_weighted_loss(data_path)\n",
    "optimizer = torch.optim.Adam(model.parameters(), lr=0.001)\n",
    "scheduler = torch.optim.lr_scheduler.StepLR(optimizer, step_size=5, gamma=0.1)"
   ]
  },
  {
   "cell_type": "code",
   "execution_count": 6,
   "id": "6ae9a35f-b967-47a9-b5ac-c19f8a0262e7",
   "metadata": {},
   "outputs": [
    {
     "name": "stdout",
     "output_type": "stream",
     "text": [
      "Loss weights: tensor([0.8614, 0.5180, 0.3055, 2.3151])\n"
     ]
    }
   ],
   "source": [
    "print(f\"Loss weights: {criterion.weight}\")"
   ]
  },
  {
   "cell_type": "code",
   "execution_count": 7,
   "id": "fdcf0d8e-9ef8-4cfa-8f1a-45780345c79f",
   "metadata": {},
   "outputs": [
    {
     "name": "stdout",
     "output_type": "stream",
     "text": [
      "Epoch 1/10 - Time: 2134.09s \n",
      "    Train Loss: 0.7135 | Train Acc: 0.6766\n",
      "    Test Loss: 0.7612 | Test Acc: 0.6744 | Test F1: 0.6892\n",
      "Epoch 2/10 - Time: 2146.03s \n",
      "    Train Loss: 0.5709 | Train Acc: 0.7442\n",
      "    Test Loss: 0.6046 | Test Acc: 0.7858 | Test F1: 0.7739\n",
      "Epoch 3/10 - Time: 2078.28s \n",
      "    Train Loss: 0.5076 | Train Acc: 0.7744\n",
      "    Test Loss: 0.5026 | Test Acc: 0.8068 | Test F1: 0.8052\n",
      "Epoch 4/10 - Time: 2077.34s \n",
      "    Train Loss: 0.4651 | Train Acc: 0.7942\n",
      "    Test Loss: 1.3313 | Test Acc: 0.5417 | Test F1: 0.5408\n",
      "Epoch 5/10 - Time: 2030.93s \n",
      "    Train Loss: 0.4291 | Train Acc: 0.8139\n",
      "    Test Loss: 0.4834 | Test Acc: 0.8099 | Test F1: 0.8107\n",
      "Epoch 6/10 - Time: 1550.61s \n",
      "    Train Loss: 0.3240 | Train Acc: 0.8575\n",
      "    Test Loss: 0.3672 | Test Acc: 0.8612 | Test F1: 0.8620\n",
      "Epoch 7/10 - Time: 2150.25s \n",
      "    Train Loss: 0.2847 | Train Acc: 0.8767\n",
      "    Test Loss: 0.3406 | Test Acc: 0.8763 | Test F1: 0.8771\n",
      "Epoch 8/10 - Time: 2206.56s \n",
      "    Train Loss: 0.2701 | Train Acc: 0.8837\n",
      "    Test Loss: 0.3352 | Test Acc: 0.8732 | Test F1: 0.8740\n",
      "Epoch 9/10 - Time: 1469.51s \n",
      "    Train Loss: 0.2666 | Train Acc: 0.8851\n",
      "    Test Loss: 0.3108 | Test Acc: 0.8829 | Test F1: 0.8827\n",
      "Epoch 10/10 - Time: 1382.68s \n",
      "    Train Loss: 0.2496 | Train Acc: 0.8931\n",
      "    Test Loss: 0.3711 | Test Acc: 0.8633 | Test F1: 0.8660\n"
     ]
    }
   ],
   "source": [
    "trained_model = train_model(model, train_loader, test_loader, criterion, optimizer, scheduler, device, num_epochs = 10)"
   ]
  },
  {
   "cell_type": "code",
   "execution_count": 8,
   "id": "9bf34117-33ed-43a0-9030-c1668fbd14bf",
   "metadata": {},
   "outputs": [],
   "source": [
    "save_weights(trained_model, 'resnet18_weighted_loss.pth')"
   ]
  },
  {
   "cell_type": "code",
   "execution_count": 12,
   "id": "74531608-d25f-4164-b38e-1edee8f384a6",
   "metadata": {},
   "outputs": [],
   "source": [
    "weighted_loss_results = evaluate_model(trained_model, test_loader, device, num_classes = 4)"
   ]
  },
  {
   "cell_type": "code",
   "execution_count": 13,
   "id": "7070a497-d0b8-4307-816b-ab4d3e71a8a3",
   "metadata": {},
   "outputs": [],
   "source": [
    "set_seed(42)"
   ]
  },
  {
   "cell_type": "markdown",
   "id": "531de5bf-5d19-41d5-b581-6b01bf1faa1a",
   "metadata": {},
   "source": [
    "# Resnet18"
   ]
  },
  {
   "cell_type": "code",
   "execution_count": 14,
   "id": "466ceafb-b747-41fc-9ead-754b593d4386",
   "metadata": {},
   "outputs": [],
   "source": [
    "model = get_model('resnet18', in_channels = 1, num_classes = 4)\n",
    "criterion = torch.nn.CrossEntropyLoss()\n",
    "optimizer = torch.optim.Adam(model.parameters(), lr=0.001)\n",
    "scheduler = torch.optim.lr_scheduler.StepLR(optimizer, step_size=5, gamma=0.1)"
   ]
  },
  {
   "cell_type": "code",
   "execution_count": 15,
   "id": "8f89b8d2-a908-48be-ac41-cf1f14b4929a",
   "metadata": {},
   "outputs": [
    {
     "name": "stdout",
     "output_type": "stream",
     "text": [
      "Epoch 1/10 - Time: 1398.66s \n",
      "    Train Loss: 0.6666 | Train Acc: 0.7372\n",
      "    Test Loss: 0.9394 | Test Acc: 0.5901 | Test F1: 0.6169\n",
      "Epoch 2/10 - Time: 1413.89s \n",
      "    Train Loss: 0.5411 | Train Acc: 0.7908\n",
      "    Test Loss: 0.7856 | Test Acc: 0.6961 | Test F1: 0.7214\n",
      "Epoch 3/10 - Time: 1477.33s \n",
      "    Train Loss: 0.4790 | Train Acc: 0.8161\n",
      "    Test Loss: 0.5757 | Test Acc: 0.7693 | Test F1: 0.7512\n",
      "Epoch 4/10 - Time: 1397.96s \n",
      "    Train Loss: 0.4382 | Train Acc: 0.8364\n",
      "    Test Loss: 0.6449 | Test Acc: 0.7792 | Test F1: 0.7549\n",
      "Epoch 5/10 - Time: 1846.21s \n",
      "    Train Loss: 0.4097 | Train Acc: 0.8484\n",
      "    Test Loss: 0.4916 | Test Acc: 0.8106 | Test F1: 0.8148\n",
      "Epoch 6/10 - Time: 1692.07s \n",
      "    Train Loss: 0.3117 | Train Acc: 0.8864\n",
      "    Test Loss: 0.3160 | Test Acc: 0.8838 | Test F1: 0.8810\n",
      "Epoch 7/10 - Time: 1637.24s \n",
      "    Train Loss: 0.2858 | Train Acc: 0.8972\n",
      "    Test Loss: 0.2864 | Test Acc: 0.8940 | Test F1: 0.8937\n",
      "Epoch 8/10 - Time: 1451.74s \n",
      "    Train Loss: 0.2819 | Train Acc: 0.8963\n",
      "    Test Loss: 0.2815 | Test Acc: 0.8930 | Test F1: 0.8915\n",
      "Epoch 9/10 - Time: 1456.34s \n",
      "    Train Loss: 0.2708 | Train Acc: 0.8996\n",
      "    Test Loss: 0.2787 | Test Acc: 0.8942 | Test F1: 0.8940\n",
      "Epoch 10/10 - Time: 1449.24s \n",
      "    Train Loss: 0.2614 | Train Acc: 0.9032\n",
      "    Test Loss: 0.2789 | Test Acc: 0.8928 | Test F1: 0.8931\n"
     ]
    }
   ],
   "source": [
    "trained_model = train_model(model, train_loader, test_loader, criterion, optimizer, scheduler, device, num_epochs = 10)"
   ]
  },
  {
   "cell_type": "code",
   "execution_count": 16,
   "id": "620204ee-f10c-4107-9e29-25065ec7b4fb",
   "metadata": {},
   "outputs": [],
   "source": [
    "save_weights(trained_model, 'resnet18_basic.pth')"
   ]
  },
  {
   "cell_type": "code",
   "execution_count": 17,
   "id": "2ae04df1-5d40-49b8-a946-b42336ff7a0b",
   "metadata": {},
   "outputs": [],
   "source": [
    "results = evaluate_model(trained_model, test_loader, device, num_classes = 4)"
   ]
  },
  {
   "cell_type": "code",
   "execution_count": 4,
   "id": "edb1a38e-1987-406a-8709-168e8d2e2d5f",
   "metadata": {},
   "outputs": [],
   "source": [
    "train_loader, test_loader = get_loaders_with_oversampling(data_path, batch_size, mean, std)"
   ]
  },
  {
   "cell_type": "markdown",
   "id": "840585cc-d6b9-4d36-ab80-9dd6e4bede37",
   "metadata": {},
   "source": [
    "# ResNet18 + oversampling"
   ]
  },
  {
   "cell_type": "code",
   "execution_count": 5,
   "id": "be748282-aafb-44a6-b7e8-3fb73cbd8afd",
   "metadata": {},
   "outputs": [],
   "source": [
    "set_seed(42)\n",
    "\n",
    "model = get_model('resnet18', in_channels = 1, num_classes = 4)\n",
    "criterion = torch.nn.CrossEntropyLoss()\n",
    "optimizer = torch.optim.Adam(model.parameters(), lr=0.001)\n",
    "scheduler = torch.optim.lr_scheduler.StepLR(optimizer, step_size=5, gamma=0.1)"
   ]
  },
  {
   "cell_type": "code",
   "execution_count": 6,
   "id": "1590bc0d-cfe0-4e9e-9915-e688e71faaa1",
   "metadata": {},
   "outputs": [
    {
     "name": "stdout",
     "output_type": "stream",
     "text": [
      "Epoch 1/10 - Time: 3403.72s \n",
      "    Train Loss: 0.6481 | Train Acc: 0.7314\n",
      "    Test Loss: 0.8614 | Test Acc: 0.7247 | Test F1: 0.6848\n",
      "Epoch 2/10 - Time: 2273.91s \n",
      "    Train Loss: 0.5045 | Train Acc: 0.8002\n",
      "    Test Loss: 1.0346 | Test Acc: 0.6316 | Test F1: 0.6309\n",
      "Epoch 3/10 - Time: 2427.61s \n",
      "    Train Loss: 0.4415 | Train Acc: 0.8245\n",
      "    Test Loss: 0.6156 | Test Acc: 0.7721 | Test F1: 0.7763\n",
      "Epoch 4/10 - Time: 2507.50s \n",
      "    Train Loss: 0.4083 | Train Acc: 0.8422\n",
      "    Test Loss: 1.1597 | Test Acc: 0.5693 | Test F1: 0.5778\n",
      "Epoch 5/10 - Time: 2214.17s \n",
      "    Train Loss: 0.4045 | Train Acc: 0.8440\n",
      "    Test Loss: 0.5293 | Test Acc: 0.7776 | Test F1: 0.7799\n",
      "Epoch 6/10 - Time: 2161.64s \n",
      "    Train Loss: 0.2823 | Train Acc: 0.8967\n",
      "    Test Loss: 0.3205 | Test Acc: 0.8796 | Test F1: 0.8796\n",
      "Epoch 7/10 - Time: 2114.55s \n",
      "    Train Loss: 0.2538 | Train Acc: 0.9048\n",
      "    Test Loss: 0.3235 | Test Acc: 0.8817 | Test F1: 0.8825\n",
      "Epoch 8/10 - Time: 2150.28s \n",
      "    Train Loss: 0.2441 | Train Acc: 0.9087\n",
      "    Test Loss: 0.2944 | Test Acc: 0.8902 | Test F1: 0.8899\n",
      "Epoch 9/10 - Time: 2017.55s \n",
      "    Train Loss: 0.2317 | Train Acc: 0.9148\n",
      "    Test Loss: 0.2955 | Test Acc: 0.8940 | Test F1: 0.8942\n",
      "Epoch 10/10 - Time: 2014.54s \n",
      "    Train Loss: 0.2251 | Train Acc: 0.9156\n",
      "    Test Loss: 0.2844 | Test Acc: 0.8952 | Test F1: 0.8952\n"
     ]
    }
   ],
   "source": [
    "trained_model = train_model(model, train_loader, test_loader, criterion, optimizer, scheduler, device, num_epochs = 10)"
   ]
  },
  {
   "cell_type": "code",
   "execution_count": 7,
   "id": "5f3d7a6b-dd6a-48ee-a446-f568c2756913",
   "metadata": {},
   "outputs": [],
   "source": [
    "save_weights(trained_model, 'resnet18_oversampling.pth')"
   ]
  },
  {
   "cell_type": "code",
   "execution_count": null,
   "id": "da38f4f6-62d8-421a-9e18-fa93b5da8ae2",
   "metadata": {},
   "outputs": [],
   "source": []
  }
 ],
 "metadata": {
  "kernelspec": {
   "display_name": "Python 3 (ipykernel)",
   "language": "python",
   "name": "python3"
  },
  "language_info": {
   "codemirror_mode": {
    "name": "ipython",
    "version": 3
   },
   "file_extension": ".py",
   "mimetype": "text/x-python",
   "name": "python",
   "nbconvert_exporter": "python",
   "pygments_lexer": "ipython3",
   "version": "3.11.7"
  }
 },
 "nbformat": 4,
 "nbformat_minor": 5
}
